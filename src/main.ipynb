{
 "cells": [
  {
   "cell_type": "code",
   "execution_count": 11,
   "metadata": {},
   "outputs": [],
   "source": [
    "from data.data_preparation import DataPreparation\n",
    "from models.train_model import TrainModel\n",
    "from models.predict_model import PredictModel\n",
    "from models.train_model import TrainModel"
   ]
  },
  {
   "cell_type": "code",
   "execution_count": 12,
   "metadata": {},
   "outputs": [],
   "source": [
    "def run_random_forest(X, y, test_size=0.3, random_state=42):\n",
    "    train_model_rf = TrainModel(X, y, test_size=test_size, random_state=random_state)\n",
    "    rf_model, X_val_rf, y_val_rf = train_model_rf.train_random_forest()\n",
    "    \n",
    "    predict_model_rf = PredictModel(rf_model, X_val_rf, y_val_rf)\n",
    "    val_auroc_rf = predict_model_rf.evaluate_model()\n",
    "    \n",
    "    print(f\"Random Forest Validation AUROC: {val_auroc_rf}\")"
   ]
  },
  {
   "cell_type": "code",
   "execution_count": null,
   "metadata": {},
   "outputs": [],
   "source": [
    "def run_xgboost(X, y, test_size=0.3, random_state=42):\n",
    "    train_model_xgb = TrainModel(X, y, test_size=test_size, random_state=random_state)\n",
    "    xgb_model, X_val_xgb, y_val_xgb = train_model_xgb.train_xgboost()\n",
    "    \n",
    "    predict_model_xgb = PredictModel(xgb_model, X_val_xgb, y_val_xgb)\n",
    "    val_auroc_xgb = predict_model_xgb.evaluate_model()\n",
    "    \n",
    "    print(f\"XGBoost Validation AUROC: {val_auroc_xgb}\")"
   ]
  },
  {
   "cell_type": "code",
   "execution_count": 13,
   "metadata": {},
   "outputs": [
    {
     "name": "stdout",
     "output_type": "stream",
     "text": [
      "Random Forest Validation AUROC: 0.9896885913213412\n"
     ]
    }
   ],
   "source": [
    "if __name__ == \"__main__\":\n",
    "    train_path = \"/Users/shivatmaksharma/D/Uni Work/AdvMl_Project/data/raw/train.csv\"\n",
    "    test_path = \"/Users/shivatmaksharma/D/Uni Work/AdvMl_Project/data/raw/test.csv\"\n",
    "\n",
    "    data_prep = DataPreparation(train_path, test_path)\n",
    "    data_prep.handle_missing_and_categorical_values()\n",
    "    \n",
    "    X, y, test_player_ids, *rest = data_prep.extract_features_and_target()\n",
    "\n",
    "\n",
    "    # Run Random Forest Model\n",
    "    run_random_forest(X, y)\n",
    "\n",
    "    # Run XGBoost Model\n",
    "    #run_xgboost(X, y)\n",
    "\n",
    "    # Further steps like saving the model, generating submission files, etc."
   ]
  }
 ],
 "metadata": {
  "kernelspec": {
   "display_name": "Python 3",
   "language": "python",
   "name": "python3"
  },
  "language_info": {
   "codemirror_mode": {
    "name": "ipython",
    "version": 3
   },
   "file_extension": ".py",
   "mimetype": "text/x-python",
   "name": "python",
   "nbconvert_exporter": "python",
   "pygments_lexer": "ipython3",
   "version": "3.11.5"
  },
  "orig_nbformat": 4
 },
 "nbformat": 4,
 "nbformat_minor": 2
}
