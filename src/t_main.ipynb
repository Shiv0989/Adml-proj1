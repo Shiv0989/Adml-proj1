{
 "cells": [
  {
   "cell_type": "code",
   "execution_count": 1,
   "metadata": {},
   "outputs": [],
   "source": [
    "from data.t_data_preparation import DataPreparation\n",
    "from models.t_train_model import TrainModel\n",
    "from models.t_predict_model import PredictModel"
   ]
  },
  {
   "cell_type": "code",
   "execution_count": 2,
   "metadata": {},
   "outputs": [],
   "source": [
    "def run_random_forest(X, y, test_size=0.3, random_state=42):\n",
    "    train_model_rf = TrainModel(X, y, test_size=test_size, random_state=random_state)\n",
    "    rf_model, X_val_rf, y_val_rf = train_model_rf.train_random_forest()\n",
    "\n",
    "    predict_model_rf = PredictModel(rf_model, X_val_rf, y_val_rf)\n",
    "    val_auroc_rf = predict_model_rf.evaluate_model()\n",
    "    \n",
    "    print(f\"Random Forest Validation AUROC: {val_auroc_rf}\")\n",
    "    \n",
    "    return predict_model_rf  # Return the PredictModel instance"
   ]
  },
  {
   "cell_type": "code",
   "execution_count": 3,
   "metadata": {},
   "outputs": [],
   "source": [
    "def run_xgboost(X, y, test_size=0.3, random_state=42):\n",
    "    train_model_xgb = TrainModel(X, y, test_size=test_size, random_state=random_state)\n",
    "    xgb_model, X_val_xgb, y_val_xgb = train_model_xgb.train_xgboost()\n",
    "\n",
    "    predict_model_xgb = PredictModel(xgb_model, X_val_xgb, y_val_xgb)\n",
    "    val_auroc_xgb = predict_model_xgb.evaluate_model()\n",
    "    \n",
    "    print(f\"XGBoost Validation AUROC: {val_auroc_xgb}\")\n",
    "    \n",
    "    return predict_model_xgb  # Return the PredictModel instance"
   ]
  },
  {
   "cell_type": "code",
   "execution_count": 4,
   "metadata": {},
   "outputs": [
    {
     "name": "stdout",
     "output_type": "stream",
     "text": [
      "Random Forest Validation AUROC: 0.9922351863521737\n"
     ]
    },
    {
     "ename": "ValueError",
     "evalue": "Column mismatch between X_test and X_val.",
     "output_type": "error",
     "traceback": [
      "\u001b[0;31m---------------------------------------------------------------------------\u001b[0m",
      "\u001b[0;31mValueError\u001b[0m                                Traceback (most recent call last)",
      "Cell \u001b[0;32mIn[4], line 10\u001b[0m\n\u001b[1;32m      8\u001b[0m \u001b[39m# Run Random Forest\u001b[39;00m\n\u001b[1;32m      9\u001b[0m predict_model_rf \u001b[39m=\u001b[39m run_random_forest(X, y)\n\u001b[0;32m---> 10\u001b[0m predict_model_rf\u001b[39m.\u001b[39;49mgenerate_submission(X_test, test_player_ids, \u001b[39m\"\u001b[39;49m\u001b[39mRandom_Forest\u001b[39;49m\u001b[39m\"\u001b[39;49m)\n\u001b[1;32m     12\u001b[0m \u001b[39m# Run XGBoost (Optional)\u001b[39;00m\n\u001b[1;32m     13\u001b[0m \u001b[39m#predict_model_xgb = run_xgboost(X, y)\u001b[39;00m\n\u001b[1;32m     14\u001b[0m \u001b[39m#predict_model_xgb.generate_submission(X_test, test_player_ids, \"XGBoost\")\u001b[39;00m\n",
      "File \u001b[0;32m~/D/Uni Work/AdvMl_Project/src/models/t_predict_model.py:31\u001b[0m, in \u001b[0;36mPredictModel.generate_submission\u001b[0;34m(self, X_test, test_player_ids, model_name)\u001b[0m\n\u001b[1;32m     29\u001b[0m \u001b[39m# Check column alignment with X_val\u001b[39;00m\n\u001b[1;32m     30\u001b[0m \u001b[39mif\u001b[39;00m X_test\u001b[39m.\u001b[39mshape[\u001b[39m1\u001b[39m] \u001b[39m!=\u001b[39m \u001b[39mself\u001b[39m\u001b[39m.\u001b[39mX_val\u001b[39m.\u001b[39mshape[\u001b[39m1\u001b[39m]:\n\u001b[0;32m---> 31\u001b[0m     \u001b[39mraise\u001b[39;00m \u001b[39mValueError\u001b[39;00m(\u001b[39mf\u001b[39m\u001b[39m\"\u001b[39m\u001b[39mColumn mismatch between X_test and X_val.\u001b[39m\u001b[39m\"\u001b[39m)\n\u001b[1;32m     33\u001b[0m \u001b[39m# Check for non-numeric columns in X_test\u001b[39;00m\n\u001b[1;32m     34\u001b[0m non_numeric_cols \u001b[39m=\u001b[39m X_test\u001b[39m.\u001b[39mselect_dtypes(include\u001b[39m=\u001b[39m[\u001b[39m'\u001b[39m\u001b[39mobject\u001b[39m\u001b[39m'\u001b[39m])\u001b[39m.\u001b[39mcolumns\n",
      "\u001b[0;31mValueError\u001b[0m: Column mismatch between X_test and X_val."
     ]
    }
   ],
   "source": [
    "if __name__ == \"__main__\":\n",
    "    data_prep = DataPreparation('/Users/shivatmaksharma/D/Uni Work/AdvMl_Project/data/raw/train.csv', \n",
    "                                '/Users/shivatmaksharma/D/Uni Work/AdvMl_Project/data/raw/test.csv')\n",
    "    \n",
    "    data_prep.preprocess_data()\n",
    "    X, y, test_player_ids, X_test = data_prep.extract_features_and_target()\n",
    "\n",
    "    # Run Random Forest\n",
    "    predict_model_rf = run_random_forest(X, y)\n",
    "    predict_model_rf.generate_submission(X_test, test_player_ids, \"Random_Forest\")\n",
    "\n",
    "    # Run XGBoost (Optional)\n",
    "    #predict_model_xgb = run_xgboost(X, y)\n",
    "    #predict_model_xgb.generate_submission(X_test, test_player_ids, \"XGBoost\")"
   ]
  }
 ],
 "metadata": {
  "kernelspec": {
   "display_name": "Python 3",
   "language": "python",
   "name": "python3"
  },
  "language_info": {
   "codemirror_mode": {
    "name": "ipython",
    "version": 3
   },
   "file_extension": ".py",
   "mimetype": "text/x-python",
   "name": "python",
   "nbconvert_exporter": "python",
   "pygments_lexer": "ipython3",
   "version": "3.11.5"
  },
  "orig_nbformat": 4
 },
 "nbformat": 4,
 "nbformat_minor": 2
}
