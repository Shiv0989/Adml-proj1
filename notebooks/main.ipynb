{
 "cells": [
  {
   "cell_type": "code",
   "execution_count": 41,
   "metadata": {},
   "outputs": [],
   "source": [
    "import sys\n",
    "from joblib import dump,load"
   ]
  },
  {
   "cell_type": "code",
   "execution_count": 42,
   "metadata": {},
   "outputs": [],
   "source": [
    "sys.path.append('../src/data/')\n",
    "sys.path.append('../src/models/')"
   ]
  },
  {
   "cell_type": "code",
   "execution_count": 43,
   "metadata": {},
   "outputs": [],
   "source": [
    "from data_preparation import DataPreparation\n",
    "from train_model import TrainModel\n",
    "from predict_model import PredictModel\n",
    "import pandas as pd"
   ]
  },
  {
   "cell_type": "code",
   "execution_count": 44,
   "metadata": {},
   "outputs": [],
   "source": [
    "def run_random_forest(X, y, test_size=0.3, random_state=42):\n",
    "    train_model_rf = TrainModel(X, y, test_size=test_size, random_state=random_state)\n",
    "    rf_model, X_val_rf, y_val_rf = train_model_rf.train_random_forest()\n",
    "\n",
    "    predict_model_rf = PredictModel(rf_model, X_val_rf, y_val_rf)\n",
    "    val_auroc_rf = predict_model_rf.evaluate_model()\n",
    "    \n",
    "    print(f\"Random Forest Validation AUROC: {val_auroc_rf}\")\n",
    "    \n",
    "    return predict_model_rf, train_model_rf# Return the PredictModel instance"
   ]
  },
  {
   "cell_type": "code",
   "execution_count": 45,
   "metadata": {},
   "outputs": [],
   "source": [
    "def run_xgboost(X, y, test_size=0.3, random_state=42):\n",
    "    train_model_xgb = TrainModel(X, y, test_size=test_size, random_state=random_state)\n",
    "    xgb_model, X_val_xgb, y_val_xgb = train_model_xgb.train_xgboost()\n",
    "\n",
    "    predict_model_xgb = PredictModel(xgb_model, X_val_xgb, y_val_xgb)\n",
    "    val_auroc_xgb = predict_model_xgb.evaluate_model()\n",
    "    \n",
    "    print(f\"XGBoost Validation AUROC: {val_auroc_xgb}\")\n",
    "    \n",
    "    return predict_model_xgb, train_model_xgb # Return the PredictModel instance"
   ]
  },
  {
   "cell_type": "code",
   "execution_count": 46,
   "metadata": {},
   "outputs": [],
   "source": [
    "def create_submission(predict_model, X_test, test_player_ids, filename):\n",
    "    predictions = predict_model.predict_on_test(X_test)\n",
    "    submission = pd.DataFrame({\n",
    "        'player_id': test_player_ids,\n",
    "        'drafted': predictions\n",
    "    })\n",
    "    submission.to_csv(filename, index=False)"
   ]
  },
  {
   "cell_type": "code",
   "execution_count": 47,
   "metadata": {},
   "outputs": [
    {
     "name": "stderr",
     "output_type": "stream",
     "text": [
      "/Users/shivatmaksharma/D/Uni Work/AdvMl_Project/notebooks/../src/data/data_preparation.py:78: PerformanceWarning: DataFrame is highly fragmented.  This is usually the result of calling `frame.insert` many times, which has poor performance.  Consider joining all columns at once using pd.concat(axis=1) instead. To get a de-fragmented frame, use `newframe = frame.copy()`\n",
      "  self.test_data[col] = 0\n",
      "/Users/shivatmaksharma/D/Uni Work/AdvMl_Project/notebooks/../src/data/data_preparation.py:78: PerformanceWarning: DataFrame is highly fragmented.  This is usually the result of calling `frame.insert` many times, which has poor performance.  Consider joining all columns at once using pd.concat(axis=1) instead. To get a de-fragmented frame, use `newframe = frame.copy()`\n",
      "  self.test_data[col] = 0\n",
      "/Users/shivatmaksharma/D/Uni Work/AdvMl_Project/notebooks/../src/data/data_preparation.py:78: PerformanceWarning: DataFrame is highly fragmented.  This is usually the result of calling `frame.insert` many times, which has poor performance.  Consider joining all columns at once using pd.concat(axis=1) instead. To get a de-fragmented frame, use `newframe = frame.copy()`\n",
      "  self.test_data[col] = 0\n",
      "/Users/shivatmaksharma/D/Uni Work/AdvMl_Project/notebooks/../src/data/data_preparation.py:78: PerformanceWarning: DataFrame is highly fragmented.  This is usually the result of calling `frame.insert` many times, which has poor performance.  Consider joining all columns at once using pd.concat(axis=1) instead. To get a de-fragmented frame, use `newframe = frame.copy()`\n",
      "  self.test_data[col] = 0\n",
      "/Users/shivatmaksharma/D/Uni Work/AdvMl_Project/notebooks/../src/data/data_preparation.py:78: PerformanceWarning: DataFrame is highly fragmented.  This is usually the result of calling `frame.insert` many times, which has poor performance.  Consider joining all columns at once using pd.concat(axis=1) instead. To get a de-fragmented frame, use `newframe = frame.copy()`\n",
      "  self.test_data[col] = 0\n",
      "/Users/shivatmaksharma/D/Uni Work/AdvMl_Project/notebooks/../src/data/data_preparation.py:78: PerformanceWarning: DataFrame is highly fragmented.  This is usually the result of calling `frame.insert` many times, which has poor performance.  Consider joining all columns at once using pd.concat(axis=1) instead. To get a de-fragmented frame, use `newframe = frame.copy()`\n",
      "  self.test_data[col] = 0\n",
      "/Users/shivatmaksharma/D/Uni Work/AdvMl_Project/notebooks/../src/data/data_preparation.py:78: PerformanceWarning: DataFrame is highly fragmented.  This is usually the result of calling `frame.insert` many times, which has poor performance.  Consider joining all columns at once using pd.concat(axis=1) instead. To get a de-fragmented frame, use `newframe = frame.copy()`\n",
      "  self.test_data[col] = 0\n",
      "/Users/shivatmaksharma/D/Uni Work/AdvMl_Project/notebooks/../src/data/data_preparation.py:78: PerformanceWarning: DataFrame is highly fragmented.  This is usually the result of calling `frame.insert` many times, which has poor performance.  Consider joining all columns at once using pd.concat(axis=1) instead. To get a de-fragmented frame, use `newframe = frame.copy()`\n",
      "  self.test_data[col] = 0\n",
      "/Users/shivatmaksharma/D/Uni Work/AdvMl_Project/notebooks/../src/data/data_preparation.py:78: PerformanceWarning: DataFrame is highly fragmented.  This is usually the result of calling `frame.insert` many times, which has poor performance.  Consider joining all columns at once using pd.concat(axis=1) instead. To get a de-fragmented frame, use `newframe = frame.copy()`\n",
      "  self.test_data[col] = 0\n",
      "/Users/shivatmaksharma/D/Uni Work/AdvMl_Project/notebooks/../src/data/data_preparation.py:78: PerformanceWarning: DataFrame is highly fragmented.  This is usually the result of calling `frame.insert` many times, which has poor performance.  Consider joining all columns at once using pd.concat(axis=1) instead. To get a de-fragmented frame, use `newframe = frame.copy()`\n",
      "  self.test_data[col] = 0\n",
      "/Users/shivatmaksharma/D/Uni Work/AdvMl_Project/notebooks/../src/data/data_preparation.py:78: PerformanceWarning: DataFrame is highly fragmented.  This is usually the result of calling `frame.insert` many times, which has poor performance.  Consider joining all columns at once using pd.concat(axis=1) instead. To get a de-fragmented frame, use `newframe = frame.copy()`\n",
      "  self.test_data[col] = 0\n",
      "/Users/shivatmaksharma/D/Uni Work/AdvMl_Project/notebooks/../src/data/data_preparation.py:78: PerformanceWarning: DataFrame is highly fragmented.  This is usually the result of calling `frame.insert` many times, which has poor performance.  Consider joining all columns at once using pd.concat(axis=1) instead. To get a de-fragmented frame, use `newframe = frame.copy()`\n",
      "  self.test_data[col] = 0\n",
      "/Users/shivatmaksharma/D/Uni Work/AdvMl_Project/notebooks/../src/data/data_preparation.py:78: PerformanceWarning: DataFrame is highly fragmented.  This is usually the result of calling `frame.insert` many times, which has poor performance.  Consider joining all columns at once using pd.concat(axis=1) instead. To get a de-fragmented frame, use `newframe = frame.copy()`\n",
      "  self.test_data[col] = 0\n",
      "/Users/shivatmaksharma/D/Uni Work/AdvMl_Project/notebooks/../src/data/data_preparation.py:78: PerformanceWarning: DataFrame is highly fragmented.  This is usually the result of calling `frame.insert` many times, which has poor performance.  Consider joining all columns at once using pd.concat(axis=1) instead. To get a de-fragmented frame, use `newframe = frame.copy()`\n",
      "  self.test_data[col] = 0\n",
      "/Users/shivatmaksharma/D/Uni Work/AdvMl_Project/notebooks/../src/data/data_preparation.py:78: PerformanceWarning: DataFrame is highly fragmented.  This is usually the result of calling `frame.insert` many times, which has poor performance.  Consider joining all columns at once using pd.concat(axis=1) instead. To get a de-fragmented frame, use `newframe = frame.copy()`\n",
      "  self.test_data[col] = 0\n",
      "/Users/shivatmaksharma/D/Uni Work/AdvMl_Project/notebooks/../src/data/data_preparation.py:78: PerformanceWarning: DataFrame is highly fragmented.  This is usually the result of calling `frame.insert` many times, which has poor performance.  Consider joining all columns at once using pd.concat(axis=1) instead. To get a de-fragmented frame, use `newframe = frame.copy()`\n",
      "  self.test_data[col] = 0\n",
      "/Users/shivatmaksharma/D/Uni Work/AdvMl_Project/notebooks/../src/data/data_preparation.py:78: PerformanceWarning: DataFrame is highly fragmented.  This is usually the result of calling `frame.insert` many times, which has poor performance.  Consider joining all columns at once using pd.concat(axis=1) instead. To get a de-fragmented frame, use `newframe = frame.copy()`\n",
      "  self.test_data[col] = 0\n",
      "/Users/shivatmaksharma/D/Uni Work/AdvMl_Project/notebooks/../src/data/data_preparation.py:78: PerformanceWarning: DataFrame is highly fragmented.  This is usually the result of calling `frame.insert` many times, which has poor performance.  Consider joining all columns at once using pd.concat(axis=1) instead. To get a de-fragmented frame, use `newframe = frame.copy()`\n",
      "  self.test_data[col] = 0\n",
      "/Users/shivatmaksharma/D/Uni Work/AdvMl_Project/notebooks/../src/data/data_preparation.py:78: PerformanceWarning: DataFrame is highly fragmented.  This is usually the result of calling `frame.insert` many times, which has poor performance.  Consider joining all columns at once using pd.concat(axis=1) instead. To get a de-fragmented frame, use `newframe = frame.copy()`\n",
      "  self.test_data[col] = 0\n",
      "/Users/shivatmaksharma/D/Uni Work/AdvMl_Project/notebooks/../src/data/data_preparation.py:78: PerformanceWarning: DataFrame is highly fragmented.  This is usually the result of calling `frame.insert` many times, which has poor performance.  Consider joining all columns at once using pd.concat(axis=1) instead. To get a de-fragmented frame, use `newframe = frame.copy()`\n",
      "  self.test_data[col] = 0\n",
      "/Users/shivatmaksharma/D/Uni Work/AdvMl_Project/notebooks/../src/data/data_preparation.py:78: PerformanceWarning: DataFrame is highly fragmented.  This is usually the result of calling `frame.insert` many times, which has poor performance.  Consider joining all columns at once using pd.concat(axis=1) instead. To get a de-fragmented frame, use `newframe = frame.copy()`\n",
      "  self.test_data[col] = 0\n",
      "/Users/shivatmaksharma/D/Uni Work/AdvMl_Project/notebooks/../src/data/data_preparation.py:78: PerformanceWarning: DataFrame is highly fragmented.  This is usually the result of calling `frame.insert` many times, which has poor performance.  Consider joining all columns at once using pd.concat(axis=1) instead. To get a de-fragmented frame, use `newframe = frame.copy()`\n",
      "  self.test_data[col] = 0\n",
      "/Users/shivatmaksharma/D/Uni Work/AdvMl_Project/notebooks/../src/data/data_preparation.py:78: PerformanceWarning: DataFrame is highly fragmented.  This is usually the result of calling `frame.insert` many times, which has poor performance.  Consider joining all columns at once using pd.concat(axis=1) instead. To get a de-fragmented frame, use `newframe = frame.copy()`\n",
      "  self.test_data[col] = 0\n",
      "/Users/shivatmaksharma/D/Uni Work/AdvMl_Project/notebooks/../src/data/data_preparation.py:78: PerformanceWarning: DataFrame is highly fragmented.  This is usually the result of calling `frame.insert` many times, which has poor performance.  Consider joining all columns at once using pd.concat(axis=1) instead. To get a de-fragmented frame, use `newframe = frame.copy()`\n",
      "  self.test_data[col] = 0\n",
      "/Users/shivatmaksharma/D/Uni Work/AdvMl_Project/notebooks/../src/data/data_preparation.py:78: PerformanceWarning: DataFrame is highly fragmented.  This is usually the result of calling `frame.insert` many times, which has poor performance.  Consider joining all columns at once using pd.concat(axis=1) instead. To get a de-fragmented frame, use `newframe = frame.copy()`\n",
      "  self.test_data[col] = 0\n",
      "/Users/shivatmaksharma/D/Uni Work/AdvMl_Project/notebooks/../src/data/data_preparation.py:78: PerformanceWarning: DataFrame is highly fragmented.  This is usually the result of calling `frame.insert` many times, which has poor performance.  Consider joining all columns at once using pd.concat(axis=1) instead. To get a de-fragmented frame, use `newframe = frame.copy()`\n",
      "  self.test_data[col] = 0\n",
      "/Users/shivatmaksharma/D/Uni Work/AdvMl_Project/notebooks/../src/data/data_preparation.py:78: PerformanceWarning: DataFrame is highly fragmented.  This is usually the result of calling `frame.insert` many times, which has poor performance.  Consider joining all columns at once using pd.concat(axis=1) instead. To get a de-fragmented frame, use `newframe = frame.copy()`\n",
      "  self.test_data[col] = 0\n",
      "/Users/shivatmaksharma/D/Uni Work/AdvMl_Project/notebooks/../src/data/data_preparation.py:78: PerformanceWarning: DataFrame is highly fragmented.  This is usually the result of calling `frame.insert` many times, which has poor performance.  Consider joining all columns at once using pd.concat(axis=1) instead. To get a de-fragmented frame, use `newframe = frame.copy()`\n",
      "  self.test_data[col] = 0\n",
      "/Users/shivatmaksharma/D/Uni Work/AdvMl_Project/notebooks/../src/data/data_preparation.py:78: PerformanceWarning: DataFrame is highly fragmented.  This is usually the result of calling `frame.insert` many times, which has poor performance.  Consider joining all columns at once using pd.concat(axis=1) instead. To get a de-fragmented frame, use `newframe = frame.copy()`\n",
      "  self.test_data[col] = 0\n"
     ]
    },
    {
     "name": "stdout",
     "output_type": "stream",
     "text": [
      "Random Forest Validation AUROC: 0.9922351863521737\n",
      "XGBoost Validation AUROC: 0.9970887538770963\n"
     ]
    }
   ],
   "source": [
    "if __name__ == \"__main__\":\n",
    "    data_prep = DataPreparation('/Users/shivatmaksharma/D/Uni Work/AdvMl_Project/data/raw/train.csv', \n",
    "                                '/Users/shivatmaksharma/D/Uni Work/AdvMl_Project/data/raw/test.csv')\n",
    "    \n",
    "    data_prep.preprocess_data()\n",
    "    X, y, test_player_ids, X_test = data_prep.extract_features_and_target()\n",
    "\n",
    "    predict_model_rf, train_model_rf = run_random_forest(X, y)\n",
    "    create_submission(predict_model_rf, X_test, test_player_ids, '/Users/shivatmaksharma/D/Uni Work/rf_submission.csv')\n",
    "\n",
    "    predict_model_xgb, train_model_xgb = run_xgboost(X, y)\n",
    "    create_submission(predict_model_xgb, X_test, test_player_ids, '/Users/shivatmaksharma/D/Uni Work/xgb_submission.csv')\n",
    "\n"
   ]
  },
  {
   "cell_type": "code",
   "execution_count": 48,
   "metadata": {},
   "outputs": [
    {
     "data": {
      "text/plain": [
       "['../models/xgb_model.joblib']"
      ]
     },
     "execution_count": 48,
     "metadata": {},
     "output_type": "execute_result"
    }
   ],
   "source": [
    "dump(train_model_rf, '../models/rf_model.joblib')\n",
    "dump(train_model_xgb, '../models/xgb_model.joblib')"
   ]
  }
 ],
 "metadata": {
  "kernelspec": {
   "display_name": "Python 3",
   "language": "python",
   "name": "python3"
  },
  "language_info": {
   "codemirror_mode": {
    "name": "ipython",
    "version": 3
   },
   "file_extension": ".py",
   "mimetype": "text/x-python",
   "name": "python",
   "nbconvert_exporter": "python",
   "pygments_lexer": "ipython3",
   "version": "3.11.5"
  },
  "orig_nbformat": 4
 },
 "nbformat": 4,
 "nbformat_minor": 2
}
